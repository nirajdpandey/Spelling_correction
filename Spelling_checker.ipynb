{
 "cells": [
  {
   "cell_type": "markdown",
   "metadata": {},
   "source": [
    "# Spelling correction \n",
    "\n",
    "Niraj Dev Pandey (271484)"
   ]
  },
  {
   "cell_type": "markdown",
   "metadata": {},
   "source": [
    "first of all, we need some words. First we need some text, possibly from a file. Then we can break the text into words or tokens. I have a big text called train3.txt which I have saved in my local directry. This text file is from NLTK website. We can read it, and see how many characters are there in the file"
   ]
  },
  {
   "cell_type": "code",
   "execution_count": 4,
   "metadata": {
    "collapsed": false
   },
   "outputs": [
    {
     "name": "stdout",
     "output_type": "stream",
     "text": [
      "Populating the interactive namespace from numpy and matplotlib\n"
     ]
    }
   ],
   "source": [
    "# importing preliminaries\n",
    "%pylab inline\n",
    "import re\n",
    "import math\n",
    "import string\n",
    "from collections import Counter\n",
    "from __future__ import division"
   ]
  },
  {
   "cell_type": "code",
   "execution_count": 28,
   "metadata": {
    "collapsed": false
   },
   "outputs": [
    {
     "data": {
      "text/plain": [
       "2842164"
      ]
     },
     "execution_count": 28,
     "metadata": {},
     "output_type": "execute_result"
    }
   ],
   "source": [
    "TEXT = open('E:/Natural Language Processing/train3.txt').read()\n",
    "len(TEXT)"
   ]
  },
  {
   "cell_type": "markdown",
   "metadata": {},
   "source": [
    "So, it's 28,42164 characters.\n",
    "\n",
    "Now let's break the text up into tokens. For now we'll ignore all the punctuation and numbers, and anything that is not a letter."
   ]
  },
  {
   "cell_type": "code",
   "execution_count": 29,
   "metadata": {
    "collapsed": true
   },
   "outputs": [],
   "source": [
    "def tokens(text):\n",
    "    \"List all the word tokens (consecutive letters) in a text. Normalize to lowercase.\"\n",
    "    return re.findall('[a-z]+', text.lower()) "
   ]
  },
  {
   "cell_type": "code",
   "execution_count": 30,
   "metadata": {
    "collapsed": false
   },
   "outputs": [
    {
     "data": {
      "text/plain": [
       "['hey', 'i', 'am', 'working', 'with', 'nltk']"
      ]
     },
     "execution_count": 30,
     "metadata": {},
     "output_type": "execute_result"
    }
   ],
   "source": [
    "tokens('Hey, I am working with NLTK..!')"
   ]
  },
  {
   "cell_type": "code",
   "execution_count": 31,
   "metadata": {
    "collapsed": false
   },
   "outputs": [
    {
     "data": {
      "text/plain": [
       "764222"
      ]
     },
     "execution_count": 31,
     "metadata": {},
     "output_type": "execute_result"
    }
   ],
   "source": [
    "WORDS = tokens(TEXT)\n",
    "len(WORDS)"
   ]
  },
  {
   "cell_type": "markdown",
   "metadata": {},
   "source": [
    "So, a million words. Here are the top 10 words:"
   ]
  },
  {
   "cell_type": "code",
   "execution_count": 32,
   "metadata": {
    "collapsed": false
   },
   "outputs": [
    {
     "name": "stdout",
     "output_type": "stream",
     "text": [
      "['confidence', 'nn', 'b', 'np', 'in', 'in', 'b', 'pp', 'the', 'dt']\n"
     ]
    }
   ],
   "source": [
    "print(WORDS[:10])"
   ]
  },
  {
   "cell_type": "markdown",
   "metadata": {},
   "source": [
    "Here we are using a model that is known as \"Bag of words\" We know that language is very complicated, but we can create a simplified model of language that captures part of the complexity. In this model, we avoid the order of words, but carry their frequencies. Here's a function to sample an n word sentence from a bag of words:"
   ]
  },
  {
   "cell_type": "code",
   "execution_count": 33,
   "metadata": {
    "collapsed": true
   },
   "outputs": [],
   "source": [
    "def sample(bag, n=10):\n",
    "    \"Sample a random n-word sentence from the model described by the bag of words.\"\n",
    "    return ' '.join(random.choice(bag) for _ in range(n))"
   ]
  },
  {
   "cell_type": "code",
   "execution_count": 76,
   "metadata": {
    "collapsed": false
   },
   "outputs": [
    {
     "data": {
      "text/plain": [
       "'nns in on i i of which travelers dt nn'"
      ]
     },
     "execution_count": 76,
     "metadata": {},
     "output_type": "execute_result"
    }
   ],
   "source": [
    "sample(WORDS)"
   ]
  },
  {
   "cell_type": "code",
   "execution_count": 35,
   "metadata": {
    "collapsed": false
   },
   "outputs": [
    {
     "data": {
      "text/plain": [
       "Counter({'exercise': 1, 'hey': 1, 'is': 1, 'the': 1, 'third': 1, 'this': 1})"
      ]
     },
     "execution_count": 35,
     "metadata": {},
     "output_type": "execute_result"
    }
   ],
   "source": [
    "Counter(tokens('Hey, this is the third exercise'))"
   ]
  },
  {
   "cell_type": "markdown",
   "metadata": {},
   "source": [
    "Another way to use this model is \"Counter\", which is a dictionary of {'word': count} pairs. see the below code: "
   ]
  },
  {
   "cell_type": "code",
   "execution_count": 36,
   "metadata": {
    "collapsed": false
   },
   "outputs": [
    {
     "name": "stdout",
     "output_type": "stream",
     "text": [
      "[('np', 118388), ('b', 107055), ('i', 77182), ('vp', 33470), ('nn', 30147), ('o', 27910), ('in', 26583), ('pp', 21572), ('nnp', 19884), ('dt', 18335)]\n"
     ]
    }
   ],
   "source": [
    "COUNTS = Counter(WORDS)\n",
    "\n",
    "print (COUNTS.most_common(10))"
   ]
  },
  {
   "cell_type": "markdown",
   "metadata": {},
   "source": [
    "A Counter is like a dict, but with a few extra methods. one can see the differences below -"
   ]
  },
  {
   "cell_type": "code",
   "execution_count": 37,
   "metadata": {
    "collapsed": false
   },
   "outputs": [
    {
     "name": "stdout",
     "output_type": "stream",
     "text": [
      "16 pound\n",
      "1422 is\n",
      "22 widely\n",
      "121 expected\n",
      "10184 to\n",
      "105 take\n",
      "89 another\n",
      "21 sharp\n",
      "14 drive\n"
     ]
    }
   ],
   "source": [
    "for w in tokens('pound is widely expected to take another sharp drive '):\n",
    "    print (COUNTS[w], w)"
   ]
  },
  {
   "cell_type": "markdown",
   "metadata": {},
   "source": [
    "linguist 'George Zipf' Doctorate from Harvard, noted that in any big text file, the nth most frequent word appears with a frequency of about 1/n. He is the enventor of Zipf's Law. If we plot the frequency of words, most common first, on a log-log plot, they should come out as a straight line if Zipf's Law holds. Here we see that it is a fairly close fit: "
   ]
  },
  {
   "cell_type": "code",
   "execution_count": 38,
   "metadata": {
    "collapsed": false
   },
   "outputs": [
    {
     "data": {
      "image/png": "[encoded data removed]",
      "text/plain": [
       "<matplotlib.figure.Figure at 0xb051f0d0f0>"
      ]
     },
     "metadata": {},
     "output_type": "display_data"
    }
   ],
   "source": [
    "M = COUNTS['is']\n",
    "yscale('log'); xscale('log'); title('Frequency of n-th most frequent word and 1/n line.')\n",
    "plot([c for (w, c) in COUNTS.most_common()])\n",
    "plot([M/i for i in range(1, len(COUNTS)+1)]);"
   ]
  },
  {
   "cell_type": "markdown",
   "metadata": {},
   "source": [
    "Given a word w, find the most likely correction c = correct(w).\n",
    "\n",
    "Approach: Try all candidate words c that are known words that are near w. Choose the most likely one.\n",
    "\n",
    "How to balance near and likely?\n",
    "\n",
    "For this time we always prefer nearer, but when there is a tie on nearness, then the program use the word with the highest WORDS count. to Measure nearness we are going to use edit distance.I have determined that going out to edit distance 2 will give us reasonable results. Then we can define correct(w)"
   ]
  },
  {
   "cell_type": "code",
   "execution_count": 39,
   "metadata": {
    "collapsed": true
   },
   "outputs": [],
   "source": [
    "def correct(word):\n",
    "    \"Find the best spelling correction for this word.\"\n",
    "    # Prefer edit distance 0, then 1, then 2; otherwise default to word itself.\n",
    "    candidates = (known(edits0(word)) or \n",
    "                  known(edits1(word)) or \n",
    "                  known(edits2(word)) or \n",
    "                  [word])\n",
    "    return max(candidates, key=COUNTS.get)"
   ]
  },
  {
   "cell_type": "markdown",
   "metadata": {},
   "source": [
    "The functions known and edits0 are easy; and edits2 is easy if we assume we have edits1"
   ]
  },
  {
   "cell_type": "code",
   "execution_count": 40,
   "metadata": {
    "collapsed": true
   },
   "outputs": [],
   "source": [
    "def known(words):\n",
    "    \"Return the subset of words that are actually in the dictionary.\"\n",
    "    return {w for w in words if w in COUNTS}\n",
    "\n",
    "def edits0(word): \n",
    "    \"Return all strings that are zero edits away from word (i.e., just word itself).\"\n",
    "    return {word}\n",
    "\n",
    "def edits2(word):\n",
    "    \"Return all strings that are two edits away from this word.\"\n",
    "    return {e2 for e1 in edits1(word) for e2 in edits1(e1)}"
   ]
  },
  {
   "cell_type": "markdown",
   "metadata": {},
   "source": [
    "Now for edits1(word): the set of candidate words that are one edit away. For example, given \"speech\", this would include \"sepech\"and also \"spechz\". One can see this in the code below in(print (edits1('speech')) Then How could we detect them? One way is to split the original word in all possible places, each split forming a pair of words, (a, b), before and after the place, and at each place, either delete, transpose, replace, or insert a letter."
   ]
  },
  {
   "cell_type": "code",
   "execution_count": 41,
   "metadata": {
    "collapsed": true
   },
   "outputs": [],
   "source": [
    "def edits1(word):\n",
    "    \"Return all strings that are one edit away from this word.\"\n",
    "    pairs      = splits(word)\n",
    "    deletes    = [a+b[1:]           for (a, b) in pairs if b]\n",
    "    transposes = [a+b[1]+b[0]+b[2:] for (a, b) in pairs if len(b) > 1]\n",
    "    replaces   = [a+c+b[1:]         for (a, b) in pairs for c in alphabet if b]\n",
    "    inserts    = [a+c+b             for (a, b) in pairs for c in alphabet]\n",
    "    return set(deletes + transposes + replaces + inserts)\n",
    "\n",
    "def splits(word):\n",
    "    \"Return a list of all possible (first, rest) pairs that comprise word.\"\n",
    "    return [(word[:i], word[i:]) \n",
    "            for i in range(len(word)+1)]\n",
    "\n",
    "alphabet = 'abcdefghijklmnopqrstuvwxyz'"
   ]
  },
  {
   "cell_type": "code",
   "execution_count": 42,
   "metadata": {
    "collapsed": false
   },
   "outputs": [
    {
     "data": {
      "text/plain": [
       "[('', 'speech'),\n",
       " ('s', 'peech'),\n",
       " ('sp', 'eech'),\n",
       " ('spe', 'ech'),\n",
       " ('spee', 'ch'),\n",
       " ('speec', 'h'),\n",
       " ('speech', '')]"
      ]
     },
     "execution_count": 42,
     "metadata": {},
     "output_type": "execute_result"
    }
   ],
   "source": [
    "splits('speech')"
   ]
  },
  {
   "cell_type": "code",
   "execution_count": 54,
   "metadata": {
    "collapsed": false
   },
   "outputs": [
    {
     "name": "stdout",
     "output_type": "stream",
     "text": [
      "{'speech'}\n"
     ]
    }
   ],
   "source": [
    "print (edits0('speech'))"
   ]
  },
  {
   "cell_type": "code",
   "execution_count": 55,
   "metadata": {
    "collapsed": false,
    "scrolled": true
   },
   "outputs": [
    {
     "name": "stdout",
     "output_type": "stream",
     "text": [
      "{'speechz', 'xspeech', 'speechd', 'speych', 'speecch', 'npeech', 'speiech', 'sfeech', 'sleech', 'hpeech', 'sptech', 'sppech', 'spezch', 'spfech', 'sepech', 'sreech', 'spefch', 'spetch', 'cpeech', 'speesch', 'spleech', 'speezch', 'sveech', 'spexch', 'spelech', 'sipeech', 'speeoch', 'spench', 'speect', 'sperch', 'speeth', 'spehch', 'speekh', 'speecx', 'speecph', 'speemch', 'speece', 'speeuch', 'speeah', 'speehh', 'spqeech', 'lspeech', 'spezech', 'syeech', 'skpeech', 'sxeech', 'speerh', 'speechf', 'spsech', 'spqech', 'speehc', 'upeech', 'xpeech', 'speecm', 'speeych', 'opeech', 'speeeh', 'speecxh', 'speechk', 'slpeech', 'spmech', 'snpeech', 'kspeech', 'sieech', 'pspeech', 'speecqh', 'speedch', 'spdeech', 'speechw', 'ipeech', 'speezh', 'sepeech', 'spgech', 'spewch', 'speecd', 'zspeech', 'apeech', 'spaeech', 'spedech', 'spebch', 'speechs', 'speeck', 'specch', 'spxeech', 'ospeech', 'kpeech', 'speecr', 'spteech', 'spesech', 'speecho', 'sgeech', 'spjech', 'speenh', 'spetech', 'speegh', 'epeech', 'speecht', 'spevch', 'speench', 'mpeech', 'speecfh', 'speecha', 'sheech', 'spieech', 'speecyh', 'speejch', 'dspeech', 'ppeech', 'sapeech', 'svpeech', 'speeceh', 'speecgh', 'speecmh', 'spcech', 'spekch', 'shpeech', 'speeech', 'sneech', 'sypeech', 'speeyh', 'spepech', 'spech', 'speecl', 'speeach', 'speepch', 'sjpeech', 'szpeech', 'lpeech', 'speerch', 'speechj', 'speecu', 'spesch', 'speeqh', 'speecj', 'sfpeech', 'spoeech', 'spzeech', 'speeche', 'speecw', 'speechm', 'speechq', 'spehech', 'speeih', 'speechn', 'sjeech', 'speqech', 'tspeech', 'uspeech', 'spaech', 'speaech', 'spuech', 'speechv', 'dpeech', 'speecvh', 'speechg', 'spewech', 'spkech', 'spceech', 'spdech', 'spegech', 'speecnh', 'speechx', 'speeoh', 'speeclh', 'cspeech', 'speoech', 'speewh', 'speekch', 'sbpeech', 'stpeech', 'spxech', 'soeech', 'speecoh', 'speefch', 'speeqch', 'speechh', 'spkeech', 'wpeech', 'spheech', 'speeczh', 'bspeech', 'skeech', 'spvech', 'spedch', 'speechc', 'speecih', 'speesh', 'sweech', 'speexh', 'speecg', 'speecs', 'spemch', 'sceech', 'speelh', 'spveech', 'speetch', 'speeich', 'speecbh', 'speecth', 'speechb', 'spelch', 'speefh', 'ispeech', 'speewch', 'bpeech', 'speeph', 'speecwh', 'speeh', 'speeca', 'spweech', 'vpeech', 'speecuh', 'sopeech', 'speebch', 'sbeech', 'szeech', 'ypeech', 'spoech', 'jspeech', 'gspeech', 'sdpeech', 'spekech', 'speecp', 'peech', 'speecdh', 'spfeech', 'speoch', 'swpeech', 'speich', 'speecah', 'tpeech', 'gpeech', 'sqeech', 'aspeech', 'splech', 'seeech', 'wspeech', 'spiech', 'sueech', 'spgeech', 'spjeech', 'specech', 'speedh', 'mspeech', 'speecy', 'speecrh', 'rpeech', 'spyech', 'speyech', 'speechl', 'speecjh', 'speecsh', 'speebh', 'steech', 'scpeech', 'smeech', 'spefech', 'supeech', 'speecz', 'spexech', 'speelch', 'spseech', 'speuch', 'zpeech', 'spepch', 'sdeech', 'spenech', 'speecb', 'sqpeech', 'sxpeech', 'spbeech', 'saeech', 'spegch', 'speejh', 'speexch', 'speemh', 'spueech', 'fpeech', 'spemech', 'sperech', 'rspeech', 'vspeech', 'speecv', 'spyeech', 'speechi', 'speechu', 'sspeech', 'sgpeech', 'speeckh', 'srpeech', 'spebech', 'sprech', 'spejech', 'pseech', 'spnech', 'speehch', 'speqch', 'hspeech', 'speeci', 'speecq', 'speevch', 'seech', 'sseech', 'sppeech', 'spbech', 'qpeech', 'espeech', 'speechp', 'speeuh', 'speuech', 'speec', 'sphech', 'speeco', 'spreech', 'speechr', 'speevh', 'nspeech', 'spejch', 'spmeech', 'spevech', 'jpeech', 'speech', 'speecc', 'qspeech', 'yspeech', 'speecf', 'speegch', 'spneech', 'speechy', 'speach', 'fspeech', 'smpeech', 'spwech', 'spzech', 'speecn', 'speceh'}\n"
     ]
    }
   ],
   "source": [
    "print (edits1('speech'))"
   ]
  },
  {
   "cell_type": "code",
   "execution_count": 61,
   "metadata": {
    "collapsed": false
   },
   "outputs": [
    {
     "name": "stdout",
     "output_type": "stream",
     "text": [
      "51013\n"
     ]
    }
   ],
   "source": [
    "print (len(edits2('speech')))"
   ]
  },
  {
   "cell_type": "code",
   "execution_count": 62,
   "metadata": {
    "collapsed": false
   },
   "outputs": [
    {
     "data": {
      "text/plain": [
       "<map at 0xb052040c18>"
      ]
     },
     "execution_count": 62,
     "metadata": {},
     "output_type": "execute_result"
    }
   ],
   "source": [
    "map(correct, tokens('speech eis not good'))"
   ]
  },
  {
   "cell_type": "code",
   "execution_count": 63,
   "metadata": {
    "collapsed": true
   },
   "outputs": [],
   "source": [
    "def correct_text(text):\n",
    "    \"Correct all the words within a text, returning the corrected text.\"\n",
    "    return re.sub('[a-zA-Z]+', correct_match, text)\n",
    "\n",
    "def correct_match(match):\n",
    "    \"Spell-correct word in match, and preserve proper upper/lower/title case.\"\n",
    "    word = match.group()\n",
    "    return case_of(word)(correct(word.lower()))\n",
    "\n",
    "def case_of(text):\n",
    "    \"Return the case-function appropriate for text: upper, lower, title, or just str.\"\n",
    "    return (str.upper if text.isupper() else\n",
    "            str.lower if text.islower() else\n",
    "            str.title if text.istitle() else\n",
    "            str)"
   ]
  },
  {
   "cell_type": "code",
   "execution_count": 64,
   "metadata": {
    "collapsed": false
   },
   "outputs": [
    {
     "data": {
      "text/plain": [
       "<map at 0xb052094518>"
      ]
     },
     "execution_count": 64,
     "metadata": {},
     "output_type": "execute_result"
    }
   ],
   "source": [
    "map(case_of, ['UPPER', 'lower', 'Title', 'CamelCase'])"
   ]
  },
  {
   "cell_type": "code",
   "execution_count": 85,
   "metadata": {
    "collapsed": false
   },
   "outputs": [
    {
     "data": {
      "text/plain": [
       "'speech is not good'"
      ]
     },
     "execution_count": 85,
     "metadata": {},
     "output_type": "execute_result"
    }
   ],
   "source": [
    "correct_text('spech is noot goad')"
   ]
  },
  {
   "cell_type": "code",
   "execution_count": 84,
   "metadata": {
    "collapsed": false
   },
   "outputs": [
    {
     "data": {
      "text/plain": [
       "'have you done that project'"
      ]
     },
     "execution_count": 84,
     "metadata": {},
     "output_type": "execute_result"
    }
   ],
   "source": [
    "correct_text('havee yoo dane thaat projecct')"
   ]
  },
  {
   "cell_type": "code",
   "execution_count": 87,
   "metadata": {
    "collapsed": false
   },
   "outputs": [
    {
     "data": {
      "text/plain": [
       "'Professor is a nice person'"
      ]
     },
     "execution_count": 87,
     "metadata": {},
     "output_type": "execute_result"
    }
   ],
   "source": [
    "correct_text('Profesor is a nyce persan')"
   ]
  },
  {
   "cell_type": "markdown",
   "metadata": {},
   "source": [
    "Here we saw that how we can correct the miss spelled words from our text. This is not the one and only or best methodes to do so. but it's the easiest and prity fast way to do so."
   ]
  },
  {
   "cell_type": "markdown",
   "metadata": {},
   "source": [
    "I would like to thanks one website from where I took some tutorial to finish this exercise "
   ]
  },
  {
   "cell_type": "markdown",
   "metadata": {},
   "source": [
    "http://norvig.com/spell-correct.html"
   ]
  }
 ],
 "metadata": {
  "kernelspec": {
   "display_name": "Python [default]",
   "language": "python",
   "name": "python3"
  },
  "language_info": {
   "codemirror_mode": {
    "name": "ipython",
    "version": 3
   },
   "file_extension": ".py",
   "mimetype": "text/x-python",
   "name": "python",
   "nbconvert_exporter": "python",
   "pygments_lexer": "ipython3",
   "version": "3.5.2"
  }
 },
 "nbformat": 4,
 "nbformat_minor": 1
}
